{
 "cells": [
  {
   "cell_type": "code",
   "execution_count": null,
   "metadata": {},
   "outputs": [],
   "source": [
    "import json\n",
    "import codecs\n",
    "import pyesapi\n",
    "import atexit"
   ]
  },
  {
   "cell_type": "code",
   "execution_count": null,
   "metadata": {},
   "outputs": [],
   "source": [
    "import numpy as np\n",
    "import matplotlib.pyplot as plt\n",
    "from ipywidgets import interactive, widgets"
   ]
  },
  {
   "cell_type": "code",
   "execution_count": null,
   "metadata": {},
   "outputs": [],
   "source": [
    "from scipy.interpolate import RegularGridInterpolator"
   ]
  },
  {
   "cell_type": "code",
   "execution_count": null,
   "metadata": {},
   "outputs": [],
   "source": [
    "app = pyesapi.CustomScriptExecutable.CreateApplication('pymoxie')\n",
    "atexit.register(app.Dispose)"
   ]
  },
  {
   "cell_type": "code",
   "execution_count": null,
   "metadata": {},
   "outputs": [],
   "source": [
    "for pat_sum in app.PatientSummaries:\n",
    "    print(pat_sum.Id, pat_sum.LastName, pat_sum.FirstName)"
   ]
  },
  {
   "cell_type": "code",
   "execution_count": null,
   "metadata": {},
   "outputs": [],
   "source": [
    "patid = input()"
   ]
  },
  {
   "cell_type": "code",
   "execution_count": null,
   "metadata": {},
   "outputs": [],
   "source": [
    "app.ClosePatient()"
   ]
  },
  {
   "cell_type": "code",
   "execution_count": null,
   "metadata": {},
   "outputs": [],
   "source": [
    "patient = app.OpenPatientById(patid)"
   ]
  },
  {
   "cell_type": "code",
   "execution_count": null,
   "metadata": {},
   "outputs": [],
   "source": [
    "[c.Id for c in patient.Courses]"
   ]
  },
  {
   "cell_type": "code",
   "execution_count": null,
   "metadata": {},
   "outputs": [],
   "source": [
    "cid = input()"
   ]
  },
  {
   "cell_type": "code",
   "execution_count": null,
   "metadata": {},
   "outputs": [],
   "source": [
    "course = patient.CoursesLot(cid)\n",
    "print(course.Id)"
   ]
  },
  {
   "cell_type": "code",
   "execution_count": null,
   "metadata": {},
   "outputs": [],
   "source": [
    "[p.Id for p in patient.CoursesLot(cid).PlanSetups]"
   ]
  },
  {
   "cell_type": "code",
   "execution_count": null,
   "metadata": {},
   "outputs": [],
   "source": [
    "pid = input()"
   ]
  },
  {
   "cell_type": "code",
   "execution_count": null,
   "metadata": {},
   "outputs": [],
   "source": [
    "plan = patient.CoursesLot(cid).PlanSetupsLot(pid)"
   ]
  },
  {
   "cell_type": "code",
   "execution_count": null,
   "metadata": {},
   "outputs": [],
   "source": [
    "print(f'Plan Id: {plan.Id}')\n",
    "print(f'Dose Per Fx: {plan.PrescribedDosePerFraction}')\n",
    "print(f'Number of Fx: {plan.NumberOfFractions}')"
   ]
  },
  {
   "cell_type": "code",
   "execution_count": null,
   "metadata": {},
   "outputs": [],
   "source": [
    "import pandas as pd\n",
    "\n",
    "df = pd.DataFrame(\n",
    "    [(s.Id, s.DicomType, s.Volume, s.IsHighResolution) for s in plan.StructureSet.Structures],\n",
    "    columns = ('StructureId', 'DicomType', 'Volume[cc]', 'IsHighRes')\n",
    ")\n",
    "df"
   ]
  },
  {
   "cell_type": "code",
   "execution_count": null,
   "metadata": {},
   "outputs": [],
   "source": [
    "constraint_filepath = \"C:\\\\Users\\\\jneylon\\\\Documents\\\\JSON_Constraints\\\\\" + patid + \"-tight.json\""
   ]
  },
  {
   "cell_type": "code",
   "execution_count": null,
   "metadata": {},
   "outputs": [],
   "source": [
    "print(constraint_filepath)"
   ]
  },
  {
   "cell_type": "code",
   "execution_count": null,
   "metadata": {},
   "outputs": [],
   "source": [
    "json_data = json.load(codecs.open(constraint_filepath, 'r', 'utf-8-sig'))"
   ]
  },
  {
   "cell_type": "code",
   "execution_count": null,
   "metadata": {},
   "outputs": [],
   "source": [
    "json_data['CalculatedConstraints']"
   ]
  },
  {
   "cell_type": "code",
   "execution_count": null,
   "metadata": {},
   "outputs": [],
   "source": [
    "ct = plan.StructureSet.Image  # just a shortcut\n",
    "ct_image = plan.StructureSet.Image.np_array_like()\n",
    "print(ct.XSize, ct.YSize, ct.ZSize)\n",
    "print(ct_image.shape)"
   ]
  },
  {
   "cell_type": "code",
   "execution_count": null,
   "metadata": {},
   "outputs": [],
   "source": [
    "rxdose = plan.TotalDose.Dose"
   ]
  },
  {
   "cell_type": "code",
   "execution_count": null,
   "metadata": {},
   "outputs": [],
   "source": [
    "dose = (rxdose / 100.) * plan.Dose.np_array_like(plan.StructureSet.Image)"
   ]
  },
  {
   "cell_type": "code",
   "execution_count": null,
   "metadata": {},
   "outputs": [],
   "source": [
    "gtv_structure = plan.StructureSet.StructuresLot('.GTV')"
   ]
  },
  {
   "cell_type": "code",
   "execution_count": null,
   "metadata": {},
   "outputs": [],
   "source": [
    "ptv_structure = plan.StructureSet.StructuresLot('.PTV')"
   ]
  },
  {
   "cell_type": "code",
   "execution_count": null,
   "metadata": {},
   "outputs": [],
   "source": [
    "slice_num = 180\n",
    "plt.figure(figsize=(10,5))\n",
    "plt.imshow(ct_image[200:400,200:400,slice_num].T, cmap='gray')\n",
    "\n",
    "for pt_list in ptv_structure.GetContoursOnImagePlane(slice_num):\n",
    "    plt.plot(\n",
    "        [(pt.x-ct.Origin.x)/ct.XRes - 200 for pt in pt_list],\n",
    "        [(pt.y-ct.Origin.y)/ct.YRes - 200 for pt in pt_list],\n",
    "        'r'\n",
    "    )\n",
    "    \n",
    "plt.axis('off')  # turn of axis numbers\n",
    "plt.show()"
   ]
  },
  {
   "cell_type": "code",
   "execution_count": null,
   "metadata": {},
   "outputs": [],
   "source": [
    "def plot_contour_at_slice(structure, roi, style):\n",
    "    for pt_list in structure.GetContoursOnImagePlane(roi[2]):\n",
    "        plt.plot(\n",
    "            [(pt.x-ct.Origin.x)/ct.XRes - roi[0].start for pt in pt_list],\n",
    "            [(pt.y-ct.Origin.y)/ct.YRes - roi[1].start for pt in pt_list],\n",
    "            style\n",
    "        )"
   ]
  },
  {
   "cell_type": "code",
   "execution_count": null,
   "metadata": {},
   "outputs": [],
   "source": [
    "def plot_slice(slice_index,dose_level):\n",
    "    plt.figure(figsize=(20,10))\n",
    "    plt.imshow(ct_image[roi_slice[0],roi_slice[1],slice_index].T, cmap='gray', vmax=2000)\n",
    "    \n",
    "    dose_slice = dose[roi_slice[0],roi_slice[1],slice_index]\n",
    "    dose_slice_mask = np.ma.masked_where(dose_slice<dose_level,dose_slice)\n",
    "    plt.imshow(dose_slice_mask.T, cmap='jet', alpha=.3, vmax=rxdose)\n",
    "    \n",
    "    cb=plt.colorbar()\n",
    "    cb.set_alpha(1.0)  # so colorbar is not transparent\n",
    "    cb.draw_all()\n",
    "    \n",
    "    _roi = (roi_slice[0],roi_slice[1],slice_index)\n",
    "    plot_contour_at_slice(plan.StructureSet.StructuresLot('.PTV'),_roi,'r')\n",
    "    plot_contour_at_slice(plan.StructureSet.StructuresLot('SpinalCord'),_roi,'b')\n",
    "    plot_contour_at_slice(plan.StructureSet.StructuresLot('Esophagus'),_roi,'g')\n",
    "    \n",
    "    plt.title(f'slice #{slice_index} dose [%]')\n",
    "    plt.show()"
   ]
  },
  {
   "cell_type": "code",
   "execution_count": null,
   "metadata": {},
   "outputs": [],
   "source": [
    "slice_num = 180\n",
    "roi_slice=(slice(215,365),slice(250,400),slice_num)\n",
    "\n",
    "slice_slider = widgets.IntSlider(\n",
    "    value=slice_num,\n",
    "    min=0,\n",
    "    max=ct_image.shape[2]-1,\n",
    "    step=1,\n",
    "    description='Slice Number',\n",
    "    continuous_update=False,\n",
    ")\n",
    "\n",
    "dose_slider = widgets.IntSlider(\n",
    "    value=50,\n",
    "    min=0,\n",
    "    max=110,\n",
    "    step=1,\n",
    "    description='Min Dose [%]',\n",
    "    continuous_update=False,\n",
    ")\n",
    "\n",
    "interactive(\n",
    "    plot_slice,\n",
    "    slice_index=slice_slider,\n",
    "    dose_level=dose_slider\n",
    ")"
   ]
  },
  {
   "cell_type": "code",
   "execution_count": null,
   "metadata": {},
   "outputs": [],
   "source": [
    "sampling = [ct.XRes, ct.YRes, ct.ZRes]"
   ]
  },
  {
   "cell_type": "code",
   "execution_count": null,
   "metadata": {},
   "outputs": [],
   "source": [
    "gradx, grady, gradz = np.gradient(dose, ct.XRes, ct.YRes, ct.ZRes)"
   ]
  },
  {
   "cell_type": "code",
   "execution_count": null,
   "metadata": {},
   "outputs": [],
   "source": [
    "grad_slice=(slice(215,365),slice(250,400),slice_num)\n",
    "\n",
    "plt.figure(figsize=(10,5))\n",
    "plt.imshow(gradx[grad_slice].T,cmap='jet')\n",
    "plt.colorbar()\n",
    "plt.show()"
   ]
  },
  {
   "cell_type": "code",
   "execution_count": null,
   "metadata": {},
   "outputs": [],
   "source": [
    "grad_mag = np.sqrt(np.square(gradx) + np.square(grady) + np.square(gradz))"
   ]
  },
  {
   "cell_type": "code",
   "execution_count": null,
   "metadata": {},
   "outputs": [],
   "source": [
    "np.amax(grad_mag)"
   ]
  },
  {
   "cell_type": "code",
   "execution_count": null,
   "metadata": {
    "scrolled": true
   },
   "outputs": [],
   "source": [
    "mag_slice=(slice(215,365),slice(250,400),slice_num)\n",
    "\n",
    "plt.figure(figsize=(10,5))\n",
    "plt.imshow(grad_mag[mag_slice].T,cmap='jet')\n",
    "plt.colorbar()\n",
    "plt.show()"
   ]
  },
  {
   "cell_type": "code",
   "execution_count": null,
   "metadata": {},
   "outputs": [],
   "source": [
    "evalid = int(input())"
   ]
  },
  {
   "cell_type": "code",
   "execution_count": null,
   "metadata": {},
   "outputs": [],
   "source": [
    "coneval = json_data['CalculatedConstraints'][evalid]"
   ]
  },
  {
   "cell_type": "code",
   "execution_count": null,
   "metadata": {},
   "outputs": [],
   "source": [
    "gUncertainty = float(input())"
   ]
  },
  {
   "cell_type": "code",
   "execution_count": null,
   "metadata": {},
   "outputs": [],
   "source": [
    "def plot_grad_slice(slice_index,grad_level):\n",
    "    plt.figure(figsize=(10,5))\n",
    "    plt.imshow(ct_image[g_slice[0],g_slice[1],slice_index].T, cmap='gray', vmax=2000)\n",
    "    \n",
    "    grad_slice = grad_mag[g_slice[0],g_slice[1],slice_index]\n",
    "    grad_slice_mask = np.ma.masked_where(grad_slice<grad_level,grad_slice)\n",
    "    plt.imshow(grad_slice_mask.T, cmap='jet', alpha=.3, vmax=np.amax(grad_mag))\n",
    "    \n",
    "    cb=plt.colorbar()\n",
    "    cb.set_alpha(1.0)  # so colorbar is not transparent\n",
    "    cb.draw_all()\n",
    "    \n",
    "    _roi = (roi_slice[0],roi_slice[1],slice_index)\n",
    "    plot_contour_at_slice(plan.StructureSet.StructuresLot('.PTV'),_roi,'r')\n",
    "    plot_contour_at_slice(plan.StructureSet.StructuresLot('SpinalCord'),_roi,'b')\n",
    "    plot_contour_at_slice(plan.StructureSet.StructuresLot('Esophagus'),_roi,'g')\n",
    "    \n",
    "    plt.title(f'slice #{slice_index} dose [%]')\n",
    "    plt.show()"
   ]
  },
  {
   "cell_type": "code",
   "execution_count": null,
   "metadata": {},
   "outputs": [],
   "source": [
    "g_slice=(slice(215,365),slice(250,400),slice_num)\n",
    "\n",
    "grad_slider = widgets.IntSlider(\n",
    "    value=10,\n",
    "    min=0,\n",
    "    max=np.amax(grad_mag),\n",
    "    step=1,\n",
    "    description='Min Gradient',\n",
    "    continuous_update=False,\n",
    ")\n",
    "\n",
    "interactive(\n",
    "    plot_grad_slice,\n",
    "    slice_index=slice_slider,\n",
    "    grad_level=grad_slider\n",
    ")"
   ]
  },
  {
   "cell_type": "code",
   "execution_count": null,
   "metadata": {},
   "outputs": [],
   "source": [
    "coneval"
   ]
  },
  {
   "cell_type": "code",
   "execution_count": null,
   "metadata": {},
   "outputs": [],
   "source": [
    "structure = plan.StructureSet.StructuresLot(coneval['StructurePlan'])"
   ]
  },
  {
   "cell_type": "code",
   "execution_count": null,
   "metadata": {},
   "outputs": [],
   "source": [
    "structure.Volume"
   ]
  },
  {
   "cell_type": "code",
   "execution_count": null,
   "metadata": {},
   "outputs": [],
   "source": [
    "goal = float(coneval['GoalLimitToPresent'].replace(coneval['GoalLimitActualUnit'],''))"
   ]
  },
  {
   "cell_type": "code",
   "execution_count": null,
   "metadata": {},
   "outputs": [],
   "source": [
    "goal"
   ]
  },
  {
   "cell_type": "code",
   "execution_count": null,
   "metadata": {},
   "outputs": [],
   "source": [
    "achieved = float(coneval['Plan1ActualValue'])"
   ]
  },
  {
   "cell_type": "code",
   "execution_count": null,
   "metadata": {},
   "outputs": [],
   "source": [
    "achieved"
   ]
  },
  {
   "cell_type": "code",
   "execution_count": null,
   "metadata": {
    "scrolled": false
   },
   "outputs": [],
   "source": [
    "def plot_dvh(structure):\n",
    "    dvh = plan.GetDVHCumulativeData(\n",
    "        structure,\n",
    "        pyesapi.DoseValuePresentation.Absolute,\n",
    "        pyesapi.VolumePresentation.Relative,\n",
    "        .01\n",
    "    )\n",
    "    if dvh is not None:\n",
    "        dose_x = [p.DoseValue.Dose for p in dvh.CurveData]\n",
    "        volume_y = [p.Volume for p in dvh.CurveData]\n",
    "        plt.plot(dose_x, volume_y, label=structure.Id)\n",
    "    \n",
    "\n",
    "plt.figure(figsize=(10,7))\n",
    "plot_dvh(structure)\n",
    "plt.legend(loc=0)\n",
    "plt.title(f'Eclipse DVH: {plan.Id}')\n",
    "plt.ylabel('Volume [%]')\n",
    "plt.xlabel('Dose [cGy]')\n",
    "plt.axvline(x=goal,color='g')\n",
    "plt.axvline(x=achieved,color='r')\n",
    "plt.show()"
   ]
  },
  {
   "cell_type": "code",
   "execution_count": null,
   "metadata": {},
   "outputs": [],
   "source": [
    "mask = ct.np_structure_mask(structure)\n",
    "mask.shape"
   ]
  },
  {
   "cell_type": "code",
   "execution_count": null,
   "metadata": {},
   "outputs": [],
   "source": [
    "print(np.where(mask)[0][0], np.where(mask)[1][0], np.where(mask)[2][0])"
   ]
  },
  {
   "cell_type": "code",
   "execution_count": null,
   "metadata": {
    "scrolled": true
   },
   "outputs": [],
   "source": [
    "mask_slice=(slice(215,365),slice(250,400),slice_num)\n",
    "\n",
    "plt.figure(figsize=(10,5))\n",
    "plt.imshow(mask[mask_slice].T,cmap='gray')\n",
    "plt.colorbar()\n",
    "plt.show()"
   ]
  },
  {
   "cell_type": "code",
   "execution_count": null,
   "metadata": {},
   "outputs": [],
   "source": [
    "x = np.linspace(0,ct.XSize-1,ct.XSize)\n",
    "y = np.linspace(0,ct.YSize-1,ct.YSize)\n",
    "z = np.linspace(0,ct.ZSize-1,ct.ZSize)"
   ]
  },
  {
   "cell_type": "code",
   "execution_count": null,
   "metadata": {},
   "outputs": [],
   "source": [
    "interpolater = RegularGridInterpolator((x,y,z), dose, method='linear', bounds_error='False')"
   ]
  },
  {
   "cell_type": "code",
   "execution_count": null,
   "metadata": {},
   "outputs": [],
   "source": [
    "dx = gUncertainty * np.divide(gradx, grad_mag, out=np.zeros_like(gradx), where=grad_mag!=0)"
   ]
  },
  {
   "cell_type": "code",
   "execution_count": null,
   "metadata": {},
   "outputs": [],
   "source": [
    "dy = -gUncertainty * np.divide(grady, grad_mag, out=np.zeros_like(grady), where=grad_mag!=0)"
   ]
  },
  {
   "cell_type": "code",
   "execution_count": null,
   "metadata": {},
   "outputs": [],
   "source": [
    "dz = gUncertainty * np.divide(gradz, grad_mag, out=np.zeros_like(gradz), where=grad_mag!=0)"
   ]
  },
  {
   "cell_type": "code",
   "execution_count": null,
   "metadata": {},
   "outputs": [],
   "source": [
    "thresh = 1000\n",
    "q_slice = (slice(225,340),slice(280,370),172)\n",
    "fig = plt.figure(figsize=(50,25))\n",
    "plt.imshow(ct_image[q_slice].T, cmap='gray', vmax=2000)\n",
    "plot_contour_at_slice(gtv_structure,q_slice,'w')\n",
    "plot_contour_at_slice(structure,q_slice,'r')\n",
    "#ax = fig.add_subplot(1,1,1)\n",
    "#q = ax.quiver(X[q_slice].T, Y[q_slice].T, -dx[grad_slice], -dy[grad_slice], grad_mag[grad_slice], cmap='jet')\n",
    "#plt.colorbar(q,extend='max')\n",
    "plt.imshow(np.ma.masked_where(dose[q_slice]<thresh,dose[q_slice]).T, cmap='nipy_spectral', alpha=.3, vmax=2250.)\n",
    "cb=plt.colorbar()\n",
    "cb.set_alpha(1.0)  # so colorbar is not transparent\n",
    "cb.draw_all()\n",
    "plt.quiver(np.ma.masked_where(dose[q_slice]<thresh,gradx[q_slice]).T, np.ma.masked_where(dose[q_slice]<thresh,-grady[q_slice]).T)\n",
    "plt.show()"
   ]
  },
  {
   "cell_type": "code",
   "execution_count": null,
   "metadata": {},
   "outputs": [],
   "source": [
    "mask_idx = np.nonzero(mask)"
   ]
  },
  {
   "cell_type": "code",
   "execution_count": null,
   "metadata": {},
   "outputs": [],
   "source": [
    "dose_array = interpolater(mask_idx)"
   ]
  },
  {
   "cell_type": "code",
   "execution_count": null,
   "metadata": {},
   "outputs": [],
   "source": [
    "mask_array = [mask_idx[0] + dx[mask_idx], mask_idx[1] + dy[mask_idx], mask_idx[2] + dz[mask_idx]]"
   ]
  },
  {
   "cell_type": "code",
   "execution_count": null,
   "metadata": {},
   "outputs": [],
   "source": [
    "moving_dose_array = interpolater(tuple(mask_array))"
   ]
  },
  {
   "cell_type": "code",
   "execution_count": null,
   "metadata": {},
   "outputs": [],
   "source": [
    "moving_dose = np.zeros_like(dose)\n",
    "moving_dose[mask_idx] = moving_dose_array"
   ]
  },
  {
   "cell_type": "code",
   "execution_count": null,
   "metadata": {},
   "outputs": [],
   "source": [
    "def plot_moving_dose_slice(slice_index,dose_level):\n",
    "    plt.figure(figsize=(20,10))\n",
    "    plt.imshow(ct_image[m_slice[0],m_slice[1],slice_index].T, cmap='gray', vmax=2000)\n",
    "    \n",
    "    dose_slice = moving_dose[m_slice[0],m_slice[1],slice_index]\n",
    "    dose_slice_mask = np.ma.masked_where(dose_slice<dose_level,dose_slice)\n",
    "    plt.imshow(dose_slice_mask.T, cmap='nipy_spectral', alpha=.3, vmax=2250.)\n",
    "    \n",
    "    cb=plt.colorbar()\n",
    "    cb.set_alpha(1.0)  # so colorbar is not transparent\n",
    "    cb.draw_all()\n",
    "    \n",
    "    _roi = (m_slice[0],m_slice[1],slice_index)\n",
    "    plot_contour_at_slice(gtv_structure,m_slice,'w')\n",
    "    plot_contour_at_slice(structure,m_slice,'r')\n",
    "    \n",
    "    plt.title(f'slice #{slice_index} dose [cGy]')\n",
    "    plt.show()"
   ]
  },
  {
   "cell_type": "code",
   "execution_count": null,
   "metadata": {},
   "outputs": [],
   "source": [
    "slice_num=172\n",
    "m_slice=(slice(240,328),slice(290,355),slice_num)\n",
    "\n",
    "move_slider = widgets.IntSlider(\n",
    "    value=140,\n",
    "    min=0,\n",
    "    max=np.amax(moving_dose),\n",
    "    step=1,\n",
    "    description='Min Dose [cGy]',\n",
    "    continuous_update=False,\n",
    ")\n",
    "\n",
    "interactive(\n",
    "    plot_moving_dose_slice,\n",
    "    slice_index=slice_slider,\n",
    "    dose_level=move_slider\n",
    ")"
   ]
  },
  {
   "cell_type": "code",
   "execution_count": null,
   "metadata": {},
   "outputs": [],
   "source": [
    "plt.figure(figsize=(20,15))\n",
    "\n",
    "tot_vox = np.ones_like(dose)[mask_idx].sum()\n",
    "hist,bins = np.histogram(moving_dose[mask_idx].flatten(),bins=1000,range=(0,moving_dose.max()))\n",
    "        \n",
    "plt.plot(bins[:-1],100.-hist.cumsum()*100.0/tot_vox,label=structure.Id)\n",
    "dvh = plan.GetDVHCumulativeData(\n",
    "        structure,\n",
    "        pyesapi.DoseValuePresentation.Absolute,\n",
    "        pyesapi.VolumePresentation.Relative,\n",
    "        .01\n",
    "    )\n",
    "\n",
    "pts = np.array([[p.DoseValue.Dose,p.Volume] for p in dvh.CurveData])\n",
    "plt.plot(pts[:,0],pts[:,1],'k--',alpha=.33)\n",
    "\n",
    "plt.title(\"Moving Dose DVH (solid line) vs. Eclipse DVH (gray dashed line)\",fontsize='xx-large')\n",
    "plt.axvline(x=goal,color='g',label='Objective')\n",
    "plt.axvline(x=achieved,color='r',label='Achieved')\n",
    "plt.legend(loc=0,fontsize='xx-large')\n",
    "plt.show()"
   ]
  },
  {
   "cell_type": "code",
   "execution_count": null,
   "metadata": {},
   "outputs": [],
   "source": [
    "dMargin = (goal - dose) * mask"
   ]
  },
  {
   "cell_type": "code",
   "execution_count": null,
   "metadata": {},
   "outputs": [],
   "source": [
    "dUncertainty = (moving_dose - dose) * mask"
   ]
  },
  {
   "cell_type": "code",
   "execution_count": null,
   "metadata": {
    "scrolled": false
   },
   "outputs": [],
   "source": [
    "cord_slice=(slice(240,328),slice(290,355),172)\n",
    "plt.figure(figsize=(20,10))\n",
    "plt.imshow(ct_image[cord_slice].T, cmap='gray', vmax=2000)\n",
    "plt.imshow(abs(moving_dose[cord_slice].T)*mask[cord_slice].T,alpha=0.5,cmap='nipy_spectral',vmin=1000.,vmax=2250.)\n",
    "plot_contour_at_slice(gtv_structure,cord_slice,'w')\n",
    "plot_contour_at_slice(structure,cord_slice,'r')\n",
    "plt.colorbar()\n",
    "plt.show()"
   ]
  },
  {
   "cell_type": "code",
   "execution_count": null,
   "metadata": {},
   "outputs": [],
   "source": [
    "np.amax(dUncertainty)"
   ]
  },
  {
   "cell_type": "code",
   "execution_count": null,
   "metadata": {},
   "outputs": [],
   "source": [
    "from skimage import measure"
   ]
  },
  {
   "cell_type": "code",
   "execution_count": null,
   "metadata": {},
   "outputs": [],
   "source": [
    "goal_percent = (goal / 2100.) * 100."
   ]
  },
  {
   "cell_type": "code",
   "execution_count": null,
   "metadata": {},
   "outputs": [],
   "source": [
    "print(np.amax(dose),goal,goal_percent)"
   ]
  },
  {
   "cell_type": "code",
   "execution_count": null,
   "metadata": {},
   "outputs": [],
   "source": [
    "sub_slice=(slice(200,400),slice(200,400),slice(150,200))\n",
    "sub_dose = dose[sub_slice]\n",
    "sub_dose.shape"
   ]
  },
  {
   "cell_type": "code",
   "execution_count": null,
   "metadata": {},
   "outputs": [],
   "source": [
    "np.amax(sub_dose)"
   ]
  },
  {
   "cell_type": "code",
   "execution_count": null,
   "metadata": {},
   "outputs": [],
   "source": [
    "verts, faces, normals, values = measure.marching_cubes_lewiner(sub_dose,goal,gradient_direction='ascent',step_size=3)"
   ]
  },
  {
   "cell_type": "code",
   "execution_count": null,
   "metadata": {},
   "outputs": [],
   "source": [
    "from mpl_toolkits.mplot3d.art3d import Poly3DCollection"
   ]
  },
  {
   "cell_type": "code",
   "execution_count": null,
   "metadata": {},
   "outputs": [],
   "source": [
    "fig = plt.figure(figsize=(50,50))\n",
    "ax = fig.add_subplot(111, projection='3d')\n",
    "mesh = Poly3DCollection(verts[faces])\n",
    "mesh.set_edgecolor('k')\n",
    "ax.add_collection3d(mesh)\n",
    "ax.set_xlim(0,200)\n",
    "ax.set_ylim(0,200)\n",
    "ax.set_zlim(0,50)\n",
    "plt.tight_layout()\n",
    "plt.show()"
   ]
  },
  {
   "cell_type": "code",
   "execution_count": null,
   "metadata": {},
   "outputs": [],
   "source": [
    "dose_mask = np.where(dose<goal,np.ones_like(dose),np.zeros_like(dose))\n",
    "dose_mask.shape"
   ]
  },
  {
   "cell_type": "code",
   "execution_count": null,
   "metadata": {},
   "outputs": [],
   "source": [
    "dose_value = pyesapi.DoseValue(goal,pyesapi.DoseValue.DoseUnit.cGy)\n",
    "print(dose_value)"
   ]
  },
  {
   "cell_type": "code",
   "execution_count": null,
   "metadata": {},
   "outputs": [],
   "source": [
    "dose_structure = pyesapi.Structure.ConvertDoseLevelToStructure(plan.Dose, goal, pyesapi.DoseValue.DoseUnit.cGy)"
   ]
  },
  {
   "cell_type": "code",
   "execution_count": null,
   "metadata": {},
   "outputs": [],
   "source": [
    "plt.figure(figsize=(20,10))\n",
    "plt.imshow(dose_mask[q_slice].T,cmap='spectral')\n",
    "plot_contour_at_slice(gtv_structure,q_slice,'w')\n",
    "plot_contour_at_slice(structure,q_slice,'r')\n",
    "plt.show()"
   ]
  },
  {
   "cell_type": "code",
   "execution_count": null,
   "metadata": {},
   "outputs": [],
   "source": [
    "from scipy.ndimage import morphology"
   ]
  },
  {
   "cell_type": "code",
   "execution_count": null,
   "metadata": {},
   "outputs": [],
   "source": [
    "sampling"
   ]
  },
  {
   "cell_type": "code",
   "execution_count": null,
   "metadata": {},
   "outputs": [],
   "source": [
    "dtdose = morphology.distance_transform_edt(dose_mask,sampling)"
   ]
  },
  {
   "cell_type": "code",
   "execution_count": null,
   "metadata": {},
   "outputs": [],
   "source": [
    "plt.figure(figsize=(20,10))\n",
    "plt.imshow(dtdose[q_slice].T,cmap='nipy_spectral',vmax=20)\n",
    "plot_contour_at_slice(gtv_structure,q_slice,'w')\n",
    "plot_contour_at_slice(structure,q_slice,'r')\n",
    "plt.colorbar()\n",
    "plt.show()"
   ]
  },
  {
   "cell_type": "code",
   "execution_count": null,
   "metadata": {},
   "outputs": [],
   "source": [
    "gMargin = mask * dtdose"
   ]
  },
  {
   "cell_type": "code",
   "execution_count": null,
   "metadata": {
    "scrolled": false
   },
   "outputs": [],
   "source": [
    "plt.figure(figsize=(20,10))\n",
    "plt.imshow(gMargin[cord_slice].T,cmap='nipy_spectral', vmax=10)\n",
    "plot_contour_at_slice(gtv_structure,cord_slice,'w')\n",
    "plot_contour_at_slice(structure,cord_slice,'r')\n",
    "plt.colorbar()\n",
    "plt.show()"
   ]
  },
  {
   "cell_type": "code",
   "execution_count": null,
   "metadata": {},
   "outputs": [],
   "source": [
    "dRatio = np.divide(dUncertainty, dMargin, out=np.zeros_like(dMargin), where=dMargin!=0)"
   ]
  },
  {
   "cell_type": "code",
   "execution_count": null,
   "metadata": {
    "scrolled": false
   },
   "outputs": [],
   "source": [
    "plt.figure(figsize=(20,10))\n",
    "plt.imshow(abs(dRatio[cord_slice].T),cmap='nipy_spectral',vmax=3.)\n",
    "plot_contour_at_slice(gtv_structure,cord_slice,'w')\n",
    "plot_contour_at_slice(structure,cord_slice,'r')\n",
    "plt.colorbar()\n",
    "plt.show()"
   ]
  },
  {
   "cell_type": "code",
   "execution_count": null,
   "metadata": {},
   "outputs": [],
   "source": [
    "np.amax(dRatio)"
   ]
  },
  {
   "cell_type": "code",
   "execution_count": null,
   "metadata": {},
   "outputs": [],
   "source": [
    "gRatio = gUncertainty * np.divide(np.ones_like(gMargin), gMargin, out=np.zeros_like(gMargin), where=gMargin!=0)"
   ]
  },
  {
   "cell_type": "code",
   "execution_count": null,
   "metadata": {},
   "outputs": [],
   "source": [
    "np.amax(gRatio)"
   ]
  },
  {
   "cell_type": "code",
   "execution_count": null,
   "metadata": {},
   "outputs": [],
   "source": [
    "plt.figure(figsize=(20,10))\n",
    "plt.imshow(gRatio[cord_slice].T,cmap='nipy_spectral',vmax=3.)\n",
    "plot_contour_at_slice(gtv_structure,cord_slice,'w')\n",
    "plot_contour_at_slice(structure,cord_slice,'r')\n",
    "plt.colorbar()\n",
    "plt.show()"
   ]
  },
  {
   "cell_type": "code",
   "execution_count": null,
   "metadata": {},
   "outputs": [],
   "source": [
    "GRI = np.sqrt(np.square(dRatio) + np.square(gRatio))"
   ]
  },
  {
   "cell_type": "code",
   "execution_count": null,
   "metadata": {},
   "outputs": [],
   "source": [
    "plt.figure(figsize=(20,10))\n",
    "plt.imshow(GRI[cord_slice].T,cmap='nipy_spectral',vmin=0.5,vmax=3.)\n",
    "plot_contour_at_slice(gtv_structure,cord_slice,'w')\n",
    "plot_contour_at_slice(structure,cord_slice,'r')\n",
    "plt.colorbar()\n",
    "plt.show()"
   ]
  },
  {
   "cell_type": "code",
   "execution_count": null,
   "metadata": {},
   "outputs": [],
   "source": [
    "ind = np.unravel_index(np.argmax(GRI, axis=None), GRI.shape)\n",
    "print(ind[2])"
   ]
  },
  {
   "cell_type": "code",
   "execution_count": null,
   "metadata": {},
   "outputs": [],
   "source": [
    "gri_slice=(slice(215,365),slice(250,400),ind[2])"
   ]
  },
  {
   "cell_type": "code",
   "execution_count": null,
   "metadata": {},
   "outputs": [],
   "source": [
    "plt.figure(figsize=(20,10))\n",
    "plt.imshow(ct_image[cord_slice].T, cmap='gray', vmax=2000)\n",
    "plot_contour_at_slice(gtv_structure,cord_slice,'w')\n",
    "plot_contour_at_slice(structure,cord_slice,'r')\n",
    "plt.imshow(np.ma.masked_where(GRI[cord_slice]<1.,GRI[cord_slice]).T, cmap='jet', alpha=.5, vmax=3.)\n",
    "cb=plt.colorbar()\n",
    "cb.set_alpha(1.0)  # so colorbar is not transparent\n",
    "cb.draw_all()\n",
    "plt.show()"
   ]
  },
  {
   "cell_type": "code",
   "execution_count": null,
   "metadata": {},
   "outputs": [],
   "source": [
    "np.amax(GRI)"
   ]
  },
  {
   "cell_type": "code",
   "execution_count": null,
   "metadata": {},
   "outputs": [],
   "source": [
    "def plot_gri(slice_index,risk_level):\n",
    "    plt.figure(figsize=(20,10))\n",
    "    plt.imshow(ct_image[r_slice[0],r_slice[1],slice_index].T, cmap='gray', vmax=2000)\n",
    "    \n",
    "    risk_slice = GRI[r_slice[0],r_slice[1],slice_index]\n",
    "    risk_slice_mask = np.ma.masked_where(risk_slice<risk_level,risk_slice)\n",
    "    plt.imshow(risk_slice_mask.T, cmap='nipy_spectral', alpha=.5, vmax=3)\n",
    "    \n",
    "    cb=plt.colorbar()\n",
    "    cb.set_alpha(1.0)  # so colorbar is not transparent\n",
    "    cb.draw_all()\n",
    "    \n",
    "    _roi = (roi_slice[0],roi_slice[1],slice_index)\n",
    "    plot_contour_at_slice(plan.StructureSet.StructuresLot('.PTV'),_roi,'r')\n",
    "    plot_contour_at_slice(plan.StructureSet.StructuresLot('SpinalCord'),_roi,'b')\n",
    "    plot_contour_at_slice(plan.StructureSet.StructuresLot('Esophagus'),_roi,'g')\n",
    "    \n",
    "    plt.title(f'slice #{slice_index} Risk Index')\n",
    "    plt.show()"
   ]
  },
  {
   "cell_type": "code",
   "execution_count": null,
   "metadata": {
    "scrolled": false
   },
   "outputs": [],
   "source": [
    "r_slice=(slice(215,365),slice(250,400),slice_num)\n",
    "\n",
    "risk_slider = widgets.IntSlider(\n",
    "    value=1,\n",
    "    min=0,\n",
    "    max=3,\n",
    "    step=1,\n",
    "    description='GRI',\n",
    "    continuous_update=False,\n",
    ")\n",
    "\n",
    "interactive(\n",
    "    plot_gri,\n",
    "    slice_index=slice_slider,\n",
    "    risk_level=risk_slider\n",
    ")"
   ]
  },
  {
   "cell_type": "code",
   "execution_count": null,
   "metadata": {},
   "outputs": [],
   "source": [
    "tot_vox = np.ones_like(GRI)[mask_idx].sum()\n",
    "fail_idx = np.where(GRI>=1.0)\n",
    "fail_vox = np.ones_like(GRI)[fail_idx].sum()\n",
    "fail_pct = 100. * fail_vox / tot_vox"
   ]
  },
  {
   "cell_type": "code",
   "execution_count": null,
   "metadata": {},
   "outputs": [],
   "source": [
    "pd.options.display.float_format = '{:,.2f}'.format\n",
    "df = pd.DataFrame(\n",
    "    [(GRI[mask_idx].min(), GRI[mask_idx].max(), GRI[mask_idx].mean(), 100. * fail_vox / tot_vox)],\n",
    "    columns = ('Minimum', 'Maximum', 'Mean', '% Failing Voxels')\n",
    ")\n",
    "df.transpose()"
   ]
  },
  {
   "cell_type": "code",
   "execution_count": null,
   "metadata": {},
   "outputs": [],
   "source": []
  }
 ],
 "metadata": {
  "kernelspec": {
   "display_name": "Python 3",
   "language": "python",
   "name": "python3"
  },
  "language_info": {
   "codemirror_mode": {
    "name": "ipython",
    "version": 3
   },
   "file_extension": ".py",
   "mimetype": "text/x-python",
   "name": "python",
   "nbconvert_exporter": "python",
   "pygments_lexer": "ipython3",
   "version": "3.6.4"
  }
 },
 "nbformat": 4,
 "nbformat_minor": 2
}
